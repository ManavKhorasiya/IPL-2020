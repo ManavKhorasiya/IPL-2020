{
 "cells": [
  {
   "cell_type": "code",
   "execution_count": 1,
   "metadata": {},
   "outputs": [],
   "source": [
    "import pandas as pd\n",
    "import numpy as np"
   ]
  },
  {
   "cell_type": "code",
   "execution_count": 2,
   "metadata": {},
   "outputs": [],
   "source": [
    "data = pd.read_csv('2020_sechedule.csv')\n",
    "ball = pd.read_csv('Runrate_2020(season).csv')"
   ]
  },
  {
   "cell_type": "code",
   "execution_count": 3,
   "metadata": {},
   "outputs": [
    {
     "data": {
      "text/plain": [
       "array(['MUMBAI INDIANS', 'DELHI CAPITALS', 'SUNRISERS HYDERABAD',\n",
       "       'RAJASTHAN ROYALS', 'KOLKATA KNIGHT RIDERS', 'KINGS XI PUNJAB',\n",
       "       'CHENNAI SUPER KINGS', 'ROYAL CHALLENGERS BANGALORE'], dtype=object)"
      ]
     },
     "execution_count": 3,
     "metadata": {},
     "output_type": "execute_result"
    }
   ],
   "source": [
    "team = list()\n",
    "data.home.unique()"
   ]
  },
  {
   "cell_type": "code",
   "execution_count": 4,
   "metadata": {},
   "outputs": [],
   "source": [
    "names = dict()\n",
    "for i,j in enumerate(ball['Teams']):\n",
    "    names[j.lower()] = i"
   ]
  },
  {
   "cell_type": "code",
   "execution_count": 5,
   "metadata": {},
   "outputs": [],
   "source": [
    "scores = list()\n",
    "for i in data['home']:\n",
    "    scores.append(ball.at[names[i.lower()], '2020'])\n",
    "scores1 = list()\n",
    "for i in data['away']:\n",
    "    scores1.append(ball.at[names[i.lower()], '2020'])"
   ]
  },
  {
   "cell_type": "code",
   "execution_count": 6,
   "metadata": {},
   "outputs": [],
   "source": [
    "RR = pd.concat([pd.DataFrame(scores, columns = ['Run Rate(Team A)']), pd.DataFrame(scores1, columns = ['Run Rate(Team B)'])], axis = 1).to_csv('runrate_2020.csv',index=False)"
   ]
  },
  {
   "cell_type": "code",
   "execution_count": null,
   "metadata": {},
   "outputs": [],
   "source": []
  },
  {
   "cell_type": "code",
   "execution_count": null,
   "metadata": {},
   "outputs": [],
   "source": []
  },
  {
   "cell_type": "code",
   "execution_count": null,
   "metadata": {},
   "outputs": [],
   "source": []
  }
 ],
 "metadata": {
  "kernelspec": {
   "display_name": "Python 3",
   "language": "python",
   "name": "python3"
  },
  "language_info": {
   "codemirror_mode": {
    "name": "ipython",
    "version": 3
   },
   "file_extension": ".py",
   "mimetype": "text/x-python",
   "name": "python",
   "nbconvert_exporter": "python",
   "pygments_lexer": "ipython3",
   "version": "3.7.6"
  }
 },
 "nbformat": 4,
 "nbformat_minor": 4
}
