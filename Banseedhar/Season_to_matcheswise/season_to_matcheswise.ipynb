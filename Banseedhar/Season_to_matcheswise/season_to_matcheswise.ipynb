{
 "cells": [
  {
   "cell_type": "code",
   "execution_count": 1,
   "metadata": {},
   "outputs": [],
   "source": [
    "import numpy as np\n",
    "import pandas as pd"
   ]
  },
  {
   "cell_type": "code",
   "execution_count": 2,
   "metadata": {},
   "outputs": [],
   "source": [
    "data_1 = pd.read_csv('Runrate_seson_wise.csv')\n",
    "matches = pd.read_csv('matches_draft.csv')"
   ]
  },
  {
   "cell_type": "code",
   "execution_count": 3,
   "metadata": {},
   "outputs": [],
   "source": [
    "names = dict()\n",
    "for i, j in enumerate(data_1['Teams']):\n",
    "    names[j] = i"
   ]
  },
  {
   "cell_type": "code",
   "execution_count": 4,
   "metadata": {},
   "outputs": [],
   "source": [
    "teams1 = list()\n",
    "teams2 = list()\n",
    "for year in range(2008,2020):\n",
    "    for i in matches[matches['season'] == year]['team1']:\n",
    "        if(i == 'Delhi Daredevils'):\n",
    "            teams1.append(data_1.at[3, str(year)])\n",
    "        elif(i == 'Rising Pune Supergiant'):\n",
    "            teams1.append(data_1.at[7, str(year)])\n",
    "        else:\n",
    "            teams1.append(data_1.at[names[i], str(year)])\n",
    "\n",
    "for year in range(2008,2020):\n",
    "    for i in matches[matches['season'] == year]['team2']:\n",
    "        if(i == 'Delhi Daredevils'):\n",
    "            teams2.append(data_1.at[3, str(year)])\n",
    "        elif(i == 'Rising Pune Supergiant'):\n",
    "            teams2.append(data_1.at[7, str(year)])\n",
    "        else:\n",
    "            teams2.append(data_1.at[names[i], str(year)])"
   ]
  },
  {
   "cell_type": "code",
   "execution_count": 5,
   "metadata": {},
   "outputs": [],
   "source": [
    "pd.concat([pd.DataFrame(teams1, columns = ['Run_Rate(team1)']), pd.DataFrame(teams2, columns = ['Run_Rate(team2)'])], axis = 1).to_csv('runrate.csv', index = False)"
   ]
  },
  {
   "cell_type": "code",
   "execution_count": null,
   "metadata": {},
   "outputs": [],
   "source": []
  },
  {
   "cell_type": "code",
   "execution_count": null,
   "metadata": {},
   "outputs": [],
   "source": []
  },
  {
   "cell_type": "code",
   "execution_count": null,
   "metadata": {},
   "outputs": [],
   "source": []
  }
 ],
 "metadata": {
  "kernelspec": {
   "display_name": "Python 3",
   "language": "python",
   "name": "python3"
  },
  "language_info": {
   "codemirror_mode": {
    "name": "ipython",
    "version": 3
   },
   "file_extension": ".py",
   "mimetype": "text/x-python",
   "name": "python",
   "nbconvert_exporter": "python",
   "pygments_lexer": "ipython3",
   "version": "3.7.6"
  }
 },
 "nbformat": 4,
 "nbformat_minor": 4
}
