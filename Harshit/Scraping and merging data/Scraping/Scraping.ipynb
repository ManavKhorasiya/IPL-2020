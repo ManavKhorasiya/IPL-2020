{
 "cells": [
  {
   "cell_type": "code",
   "execution_count": 1,
   "metadata": {},
   "outputs": [],
   "source": [
    "import requests\n",
    "import numpy as np\n",
    "import pandas as pd\n",
    "from bs4 import BeautifulSoup"
   ]
  },
  {
   "cell_type": "code",
   "execution_count": null,
   "metadata": {},
   "outputs": [],
   "source": [
    "data = dict()\n",
    "for year in range(2008,2020):\n",
    "    url = 'https://www.iplt20.com/stats/'+ str(year) + '/best-bowling-average'\n",
    "    page = requests.get(url)\n",
    "    soup = BeautifulSoup(page.content, 'html.parser')\n",
    "    tb = soup.find('table', class_ = 'table table--scroll-on-tablet top-players')\n",
    "    bowling_averages = []\n",
    "    for link1 in tb.find_all('tr'):\n",
    "        for link2 in link1.find_all('td' , {'class': 'top-players__a is-active'}):\n",
    "            bowling_averages.append(float(link2.get_text().split()[0]))\n",
    "    team_name = []\n",
    "    for link1 in tb.find_all('tr'):\n",
    "        for link2 in link1.find_all('td'):\n",
    "            for link3 in link2.find_all('div', class_ = 'top-players__team'):\n",
    "                team_name.append(link3.find('span').get('class')[2])\n",
    "    player_name = []\n",
    "    for link1 in tb.find_all('tr'):\n",
    "        for link2 in link1.find_all('td'):\n",
    "            for link3 in link2.find_all('div', class_ = 'top-players__player-name'):\n",
    "                player_name.append(\" \".join(link3.get_text().split()))\n",
    "                #player_name.append(\" \".join(link3.find('a').get_text().split()))\n",
    "    np_player_name = np.array(player_name, dtype = 'object').reshape(-1,1)\n",
    "    np_team_name = np.array(team_name, dtype = 'object').reshape(-1,1)\n",
    "    np_bowling_averages = np.array(bowling_averages, dtype = 'float32').reshape(-1,1)\n",
    "    np_detail = np.concatenate((np_player_name, np_team_name, np_bowling_averages), axis = 1)\n",
    "    data[year] = pd.DataFrame(np_detail, columns = ['Name', 'Team', 'Bowling Averages'])"
   ]
  },
  {
   "cell_type": "code",
   "execution_count": null,
   "metadata": {},
   "outputs": [],
   "source": [
    "teams = set()\n",
    "for i in range(2008,2020):    \n",
    "    for j in data[i]['Team'].unique():\n",
    "        teams.add(j)"
   ]
  },
  {
   "cell_type": "code",
   "execution_count": null,
   "metadata": {},
   "outputs": [],
   "source": [
    "teams1 = dict()\n",
    "for i in teams:\n",
    "    teams1[i] = 0"
   ]
  },
  {
   "cell_type": "code",
   "execution_count": null,
   "metadata": {},
   "outputs": [],
   "source": [
    "scores = dict()\n",
    "for i in range(2008, 2020):\n",
    "    scores[i] = teams1.copy()"
   ]
  },
  {
   "cell_type": "code",
   "execution_count": null,
   "metadata": {},
   "outputs": [],
   "source": [
    "for i in range(2008, 2020):\n",
    "    k = 100\n",
    "    l = 0\n",
    "    for j in data[i]['Team']:\n",
    "        scores[i][j] += k - l\n",
    "        l += 1"
   ]
  },
  {
   "cell_type": "code",
   "execution_count": null,
   "metadata": {},
   "outputs": [],
   "source": [
    "pd.DataFrame(scores).to_csv('scores.csv')"
   ]
  },
  {
   "cell_type": "code",
   "execution_count": null,
   "metadata": {},
   "outputs": [],
   "source": []
  },
  {
   "cell_type": "code",
   "execution_count": null,
   "metadata": {},
   "outputs": [],
   "source": []
  },
  {
   "cell_type": "code",
   "execution_count": null,
   "metadata": {},
   "outputs": [],
   "source": []
  },
  {
   "cell_type": "code",
   "execution_count": null,
   "metadata": {},
   "outputs": [],
   "source": []
  },
  {
   "cell_type": "code",
   "execution_count": null,
   "metadata": {},
   "outputs": [],
   "source": []
  },
  {
   "cell_type": "code",
   "execution_count": null,
   "metadata": {},
   "outputs": [],
   "source": []
  },
  {
   "cell_type": "code",
   "execution_count": null,
   "metadata": {},
   "outputs": [],
   "source": []
  }
 ],
 "metadata": {
  "kernelspec": {
   "display_name": "Python 3",
   "language": "python",
   "name": "python3"
  },
  "language_info": {
   "codemirror_mode": {
    "name": "ipython",
    "version": 3
   },
   "file_extension": ".py",
   "mimetype": "text/x-python",
   "name": "python",
   "nbconvert_exporter": "python",
   "pygments_lexer": "ipython3",
   "version": "3.8.2"
  }
 },
 "nbformat": 4,
 "nbformat_minor": 4
}
