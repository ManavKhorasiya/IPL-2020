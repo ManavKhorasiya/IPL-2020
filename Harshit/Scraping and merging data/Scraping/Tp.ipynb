{
 "cells": [
  {
   "cell_type": "code",
   "execution_count": 1,
   "metadata": {},
   "outputs": [],
   "source": [
    "import numpy as np\n",
    "import pandas as pd"
   ]
  },
  {
   "cell_type": "code",
   "execution_count": 8,
   "metadata": {},
   "outputs": [],
   "source": [
    "data_1 = pd.read_csv('scores_1.csv')\n",
    "data_2 = pd.read_csv('FinalWork.csv')\n",
    "matches = pd.read_csv('matches_draft.csv')"
   ]
  },
  {
   "cell_type": "code",
   "execution_count": 3,
   "metadata": {},
   "outputs": [],
   "source": [
    "names = dict()\n",
    "for i, j in enumerate(data_1['Teams']):\n",
    "    names[j] = i"
   ]
  },
  {
   "cell_type": "code",
   "execution_count": 4,
   "metadata": {},
   "outputs": [],
   "source": [
    "teams1 = list()\n",
    "teams2 = list()\n",
    "for year in range(2008,2020):\n",
    "    for i in matches[matches['season'] == year]['team1']:\n",
    "        if(i == 'Delhi Daredevils'):\n",
    "            teams1.append(data_1.at[3, str(year)])\n",
    "        elif(i == 'Rising Pune Supergiant'):\n",
    "            teams1.append(data_1.at[7, str(year)])\n",
    "        else:\n",
    "            teams1.append(data_1.at[names[i], str(year)])\n",
    "\n",
    "for year in range(2008,2020):\n",
    "    for i in matches[matches['season'] == year]['team2']:\n",
    "        if(i == 'Delhi Daredevils'):\n",
    "            teams2.append(data_1.at[3, str(year)])\n",
    "        elif(i == 'Rising Pune Supergiant'):\n",
    "            teams2.append(data_1.at[7, str(year)])\n",
    "        else:\n",
    "            teams2.append(data_1.at[names[i], str(year)])"
   ]
  },
  {
   "cell_type": "code",
   "execution_count": 5,
   "metadata": {},
   "outputs": [],
   "source": [
    "pd.concat([pd.DataFrame(teams1, columns = ['Top Baller Points(Team A)']), pd.DataFrame(teams2, columns = ['Top Baller Points(Team B)'])], axis = 1).to_csv('points_ballers.csv', index = False)"
   ]
  },
  {
   "cell_type": "code",
   "execution_count": 10,
   "metadata": {},
   "outputs": [],
   "source": [
    "names = dict()\n",
    "for i, j in enumerate(data_2['Teams']):\n",
    "    names[j] = i"
   ]
  },
  {
   "cell_type": "code",
   "execution_count": 11,
   "metadata": {},
   "outputs": [],
   "source": [
    "teams1 = list()\n",
    "teams2 = list()\n",
    "for year in range(2008,2020):\n",
    "    for i in matches[matches['season'] == year]['team1']:\n",
    "        if(i == 'Delhi Daredevils'):\n",
    "            teams1.append(data_2.at[3, str(year)])\n",
    "        elif(i == 'Rising Pune Supergiant'):\n",
    "            teams1.append(data_2.at[7, str(year)])\n",
    "        else:\n",
    "            teams1.append(data_2.at[names[i], str(year)])\n",
    "\n",
    "for year in range(2008,2020):\n",
    "    for i in matches[matches['season'] == year]['team2']:\n",
    "        if(i == 'Delhi Daredevils'):\n",
    "            teams2.append(data_2.at[3, str(year)])\n",
    "        elif(i == 'Rising Pune Supergiant'):\n",
    "            teams2.append(data_2.at[7, str(year)])\n",
    "        else:\n",
    "            teams2.append(data_2.at[names[i], str(year)])"
   ]
  },
  {
   "cell_type": "code",
   "execution_count": 14,
   "metadata": {},
   "outputs": [],
   "source": [
    "pd.concat([pd.DataFrame(teams1, columns = ['Top Batsmen Points(Team A)']), pd.DataFrame(teams2, columns = ['Top Batsmen Points(Team B)'])], axis = 1).to_csv('points_batters.csv', index = False)"
   ]
  }
 ],
 "metadata": {
  "kernelspec": {
   "display_name": "Python 3",
   "language": "python",
   "name": "python3"
  },
  "language_info": {
   "codemirror_mode": {
    "name": "ipython",
    "version": 3
   },
   "file_extension": ".py",
   "mimetype": "text/x-python",
   "name": "python",
   "nbconvert_exporter": "python",
   "pygments_lexer": "ipython3",
   "version": "3.8.2"
  }
 },
 "nbformat": 4,
 "nbformat_minor": 4
}
