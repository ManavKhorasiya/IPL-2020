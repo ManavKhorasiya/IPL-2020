{
 "cells": [
  {
   "cell_type": "code",
   "execution_count": 1,
   "metadata": {},
   "outputs": [],
   "source": [
    "import pandas as pd\n",
    "import numpy as np"
   ]
  },
  {
   "cell_type": "code",
   "execution_count": 3,
   "metadata": {},
   "outputs": [],
   "source": [
    "data = pd.read_csv('2020_sechedule.csv')\n",
    "ball = pd.read_csv('mpp_final.csv')"
   ]
  },
  {
   "cell_type": "code",
   "execution_count": 4,
   "metadata": {},
   "outputs": [],
   "source": [
    "names = dict()\n",
    "for i,j in enumerate(ball['Teams']):\n",
    "    names[j.lower()] = i\n",
    "scores = list()\n",
    "for i in data['home']:\n",
    "    scores.append(ball.at[names[i.lower()], '2020'])\n",
    "scores1 = list()\n",
    "for i in data['away']:\n",
    "    scores1.append(ball.at[names[i.lower()], '2020'])"
   ]
  },
  {
   "cell_type": "code",
   "execution_count": null,
   "metadata": {},
   "outputs": [],
   "source": [
    "pd.concat([pd.DataFrame(scores, columns = ['Most Value Player Points(Team A)']), pd.DataFrame(scores1, columns = ['Top Baller Points(Team B)'])], axis = 1)"
   ]
  }
 ],
 "metadata": {
  "kernelspec": {
   "display_name": "Python 3",
   "language": "python",
   "name": "python3"
  },
  "language_info": {
   "codemirror_mode": {
    "name": "ipython",
    "version": 3
   },
   "file_extension": ".py",
   "mimetype": "text/x-python",
   "name": "python",
   "nbconvert_exporter": "python",
   "pygments_lexer": "ipython3",
   "version": "3.8.2"
  }
 },
 "nbformat": 4,
 "nbformat_minor": 4
}
